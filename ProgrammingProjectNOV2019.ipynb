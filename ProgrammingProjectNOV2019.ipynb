{
 "cells": [
  {
   "cell_type": "markdown",
   "metadata": {},
   "source": [
    "# Programming Project November 2019\n",
    "\n",
    "\n",
    "## by Claire Nolan (Student Number G00376464)\n",
    "\n"
   ]
  },
  {
   "attachments": {
    "QBD1.jpg": {
     "image/jpeg": "[encoded data removed]"
    },
    "QBD2.jpg": {
     "image/jpeg": "[encoded data removed]"
    }
   },
   "cell_type": "markdown",
   "metadata": {},
   "source": [
    "# 1. Introduction\n",
    "\n",
    "Assignment:\n",
    "1. create a dataset by simulating a real world phenomenon\n",
    "   - must be able to be measeured\n",
    "   - collect >100 data points over 4 variables\n",
    "   - investigate type of variables, distributions, relationships with each other\n",
    "2. Model and syntesis data using Python (numpy.random package)\n",
    "   - synthesise/simulate dataset matching their properties as possible\n",
    "3. Detail research and implement the simulation in this notebook\n",
    "\n",
    "![QBD2.jpg](attachment:QBD2.jpg)![QBD1.jpg](attachment:QBD1.jpg)"
   ]
  },
  {
   "cell_type": "markdown",
   "metadata": {},
   "source": [
    "# 2. Creating a dataset by simulating a real world phenomenon\n",
    "\n",
    "I work within the pharamceutical industry which is a heavily regulated industry. One of the key regulatory agencies is the US FDA regulatory agency. The Food and Drug Administration (FDA or USFDA) is a federal agency of the United States Department of Health and Human Services, one of the United States federal executive departments. The FDA is responsible for protecting and promoting public health through the control and supervision of food safety, tobacco products, dietary supplements, prescription and over-the-counter pharmaceutical drugs (medications), vaccines, biopharmaceuticals, blood transfusions, medical devices, electromagnetic radiation emitting devices (ERED), cosmetics, animal foods & feed and veterinary products. T\n",
    "\n",
    "Another key group is the International Council for Harmonisation of Technical Requirements for Pharmaceuticals for Human Use (ICH). This is an initiative that brings together regulatory authorities and pharmaceutical industry to discuss scientific and technical aspects of pharmaceutical product development and registration. The mission of the ICH is to promote public health by achieving greater harmonisation through the development of technical Guidelines and requirements for pharmaceutical product registration.\n",
    "\n",
    "Since 2011 the FDA have requested that any new drugs to be manufactured must have all manufacturing inputs be fully understood to ensure good quality product is manufactured. These also align with the ICH guidelines Q7,8,9 and the guidelines by the Eurpoean medicines agency (EMA). These manufacturing inputs include raw materials, temperature, manufacturing conditions, time, operating parameters etc. The is known as the design space or quality by design (QBD). The theory is if the inputs are managed and controlled within the design space then the product is of good quality. Quality is usually defined as a number of outputs which must meet certain specifications.\n",
    "\n",
    "For this project the inputs for one particular product which I currently work with will be simulated. This particular product has five key inputs which if they all remain within the design space then the consistency result will meet the registered specifications resulting in good quality product.\n",
    "\n",
    "\n"
   ]
  },
  {
   "cell_type": "code",
   "execution_count": 46,
   "metadata": {},
   "outputs": [
    {
     "name": "stdout",
     "output_type": "stream",
     "text": [
      "       Batch ID   pH  Excipient-A-Assay   Excipient-B-viscosity   \\\n",
      "0    Batch 0001  6.1                14.0                 15750.0   \n",
      "1    Batch 0002  6.0                14.0                 15750.0   \n",
      "2    Batch 0003  5.9                13.9                 15637.5   \n",
      "3    Batch 0004  6.0                13.8                 15525.0   \n",
      "4    Batch 0005  6.0                13.5                 15187.5   \n",
      "5    Batch 0006  5.9                13.5                 15187.5   \n",
      "6    Batch 0007  5.9                13.5                 15187.5   \n",
      "7    Batch 0008  5.9                13.7                 15412.5   \n",
      "8    Batch 0009  5.8                13.8                 15525.0   \n",
      "9    Batch 0010  6.0                13.8                 15525.0   \n",
      "10   Batch 0011  5.9                13.9                 15637.5   \n",
      "11   Batch 0012  5.8                15.6                 17550.0   \n",
      "12   Batch 0013  5.8                14.9                 16762.5   \n",
      "13   Batch 0014  5.7                15.2                 17100.0   \n",
      "14   Batch 0015  5.7                15.5                 17437.5   \n",
      "15   Batch 0016  5.8                14.9                 16762.5   \n",
      "16   Batch 0017  6.4                14.7                 16537.5   \n",
      "17   Batch 0018  6.4                14.1                 15862.5   \n",
      "18   Batch 0019  6.4                14.6                 16425.0   \n",
      "19   Batch 0020  5.8                14.6                 16425.0   \n",
      "20   Batch 0021  6.1                14.1                 15862.5   \n",
      "21   Batch 0022  5.7                14.0                 15750.0   \n",
      "22   Batch 0023  5.8                15.1                 16987.5   \n",
      "23   Batch 0024  5.8                14.0                 15750.0   \n",
      "24   Batch 0025  5.8                14.8                 16650.0   \n",
      "25   Batch 0026  5.9                13.2                 14850.0   \n",
      "26   Batch 0027  5.9                13.2                 14850.0   \n",
      "27   Batch 0028  5.9                13.3                 14962.5   \n",
      "28   Batch 0029  5.9                13.2                 14850.0   \n",
      "29   Batch 0030  5.9                13.3                 14962.5   \n",
      "..          ...  ...                 ...                     ...   \n",
      "220  Batch 0221  5.7                14.9                 16762.5   \n",
      "221  Batch 0222  5.7                14.9                 16762.5   \n",
      "222  Batch 0223  5.7                14.7                 16537.5   \n",
      "223  Batch 0224  5.7                15.0                 16875.0   \n",
      "224  Batch 0225  5.7                14.9                 16762.5   \n",
      "225  Batch 0226  5.7                14.7                 16537.5   \n",
      "226  Batch 0227  5.7                14.8                 16650.0   \n",
      "227  Batch 0228  5.7                14.7                 16537.5   \n",
      "228  Batch 0229  5.7                14.7                 16537.5   \n",
      "229  Batch 0230  5.8                13.7                 15412.5   \n",
      "230  Batch 0231  5.9                13.8                 15525.0   \n",
      "231  Batch 0232  5.9                13.7                 15412.5   \n",
      "232  Batch 0233  5.9                13.6                 15300.0   \n",
      "233  Batch 0234  5.8                14.2                 15975.0   \n",
      "234  Batch 0235  5.8                14.7                 16537.5   \n",
      "235  Batch 0236  5.9                14.7                 16537.5   \n",
      "236  Batch 0237  5.8                14.7                 16537.5   \n",
      "237  Batch 0238  5.8                13.8                 15525.0   \n",
      "238  Batch 0239  5.7                13.8                 15525.0   \n",
      "239  Batch 0240  5.8                13.5                 15187.5   \n",
      "240  Batch 0241  5.8                13.4                 15075.0   \n",
      "241  Batch 0242  5.8                13.4                 15075.0   \n",
      "242  Batch 0243  5.7                13.5                 15187.5   \n",
      "243  Batch 0244  5.7                13.6                 15300.0   \n",
      "244  Batch 0245  5.8                13.9                 15637.5   \n",
      "245  Batch 0246  5.7                13.6                 15300.0   \n",
      "246  Batch 0247  5.7                13.8                 15525.0   \n",
      "247  Batch 0248  5.8                13.9                 15637.5   \n",
      "248  Batch 0249  5.8                13.9                 15637.5   \n",
      "249  Batch 0250  5.8                13.1                 14737.5   \n",
      "\n",
      "     Excipient-C-LOD   Number-of-pH-adjustments  OUTPUT-Consistency   \\\n",
      "0            0.105939                       NaN                  320   \n",
      "1            0.105939                       NaN                  315   \n",
      "2            0.105182                       NaN                  315   \n",
      "3            0.104425                       NaN                  310   \n",
      "4            0.102155                       NaN                  315   \n",
      "5            0.102155                       NaN                  320   \n",
      "6            0.102155                       NaN                  315   \n",
      "7            0.103669                       NaN                  310   \n",
      "8            0.104425                       NaN                  310   \n",
      "9            0.104425                       NaN                  320   \n",
      "10           0.105182                       NaN                  315   \n",
      "11           0.118046                       NaN                  315   \n",
      "12           0.112749                       NaN                  310   \n",
      "13           0.115019                       NaN                  310   \n",
      "14           0.117289                       NaN                  310   \n",
      "15           0.112749                       NaN                  315   \n",
      "16           0.111236                       NaN                  310   \n",
      "17           0.106695                       NaN                  310   \n",
      "18           0.110479                       NaN                  310   \n",
      "19           0.110479                       NaN                  300   \n",
      "20           0.106695                       NaN                  310   \n",
      "21           0.105939                       NaN                  310   \n",
      "22           0.114262                       NaN                  310   \n",
      "23           0.105939                       NaN                  310   \n",
      "24           0.111992                       NaN                  315   \n",
      "25           0.099885                       NaN                  310   \n",
      "26           0.099885                       NaN                  310   \n",
      "27           0.100642                       NaN                  330   \n",
      "28           0.099885                       NaN                  330   \n",
      "29           0.100642                       NaN                  330   \n",
      "..                ...                       ...                  ...   \n",
      "220          0.112749                       NaN                  300   \n",
      "221          0.112749                       NaN                  300   \n",
      "222          0.111236                       NaN                  310   \n",
      "223          0.113506                       NaN                  300   \n",
      "224          0.112749                       NaN                  310   \n",
      "225          0.111236                       NaN                  300   \n",
      "226          0.111992                       NaN                  310   \n",
      "227          0.111236                       NaN                  300   \n",
      "228          0.111236                       NaN                  320   \n",
      "229          0.103669                       NaN                  323   \n",
      "230          0.104425                       NaN                  315   \n",
      "231          0.103669                       NaN                  314   \n",
      "232          0.102912                       NaN                  325   \n",
      "233          0.107452                       NaN                  317   \n",
      "234          0.111236                       NaN                  320   \n",
      "235          0.111236                       NaN                  310   \n",
      "236          0.111236                       NaN                  320   \n",
      "237          0.104425                       NaN                  320   \n",
      "238          0.104425                       NaN                  320   \n",
      "239          0.102155                       NaN                  310   \n",
      "240          0.101398                       NaN                  307   \n",
      "241          0.101398                       NaN                  301   \n",
      "242          0.102155                       NaN                  323   \n",
      "243          0.102912                       NaN                  317   \n",
      "244          0.105182                       NaN                  315   \n",
      "245          0.102912                       NaN                  322   \n",
      "246          0.104425                       NaN                  315   \n",
      "247          0.105182                       NaN                  304   \n",
      "248          0.105182                       NaN                  306   \n",
      "249          0.099128                       NaN                  320   \n",
      "\n",
      "     Unnamed: 7  Unnamed: 8  Unnamed: 9         Unnamed: 10 Unnamed: 11  \\\n",
      "0           NaN         NaN         NaN                 NaN         NaN   \n",
      "1           NaN         NaN         NaN                 NaN         NaN   \n",
      "2           NaN         NaN         NaN         Measurement         pH    \n",
      "3           NaN         NaN         NaN       Specification     5.3-6.5   \n",
      "4           NaN         NaN         NaN                Mean      5.8016   \n",
      "5           NaN         NaN         NaN  Standard Deviation    0.157022   \n",
      "6           NaN         NaN         NaN                 NaN         NaN   \n",
      "7           NaN         NaN         NaN                 NaN         NaN   \n",
      "8           NaN         NaN         NaN                 NaN         NaN   \n",
      "9           NaN         NaN         NaN                 NaN         NaN   \n",
      "10          NaN         NaN         NaN                 NaN         NaN   \n",
      "11          NaN         NaN         NaN                 NaN         NaN   \n",
      "12          NaN         NaN         NaN                 NaN         NaN   \n",
      "13          NaN         NaN         NaN                 NaN         NaN   \n",
      "14          NaN         NaN         NaN                 NaN         NaN   \n",
      "15          NaN         NaN         NaN                 NaN         NaN   \n",
      "16          NaN         NaN         NaN                 NaN         NaN   \n",
      "17          NaN         NaN         NaN                 NaN         NaN   \n",
      "18          NaN         NaN         NaN                 NaN         NaN   \n",
      "19          NaN         NaN         NaN                 NaN         NaN   \n",
      "20          NaN         NaN         NaN                 NaN         NaN   \n",
      "21          NaN         NaN         NaN                 NaN         NaN   \n",
      "22          NaN         NaN         NaN                 NaN         NaN   \n",
      "23          NaN         NaN         NaN                 NaN         NaN   \n",
      "24          NaN         NaN         NaN                 NaN         NaN   \n",
      "25          NaN         NaN         NaN                 NaN         NaN   \n",
      "26          NaN         NaN         NaN                 NaN         NaN   \n",
      "27          NaN         NaN         NaN                 NaN         NaN   \n",
      "28          NaN         NaN         NaN                 NaN         NaN   \n",
      "29          NaN         NaN         NaN                 NaN         NaN   \n",
      "..          ...         ...         ...                 ...         ...   \n",
      "220         NaN         NaN         NaN                 NaN         NaN   \n",
      "221         NaN         NaN         NaN                 NaN         NaN   \n",
      "222         NaN         NaN         NaN                 NaN         NaN   \n",
      "223         NaN         NaN         NaN                 NaN         NaN   \n",
      "224         NaN         NaN         NaN                 NaN         NaN   \n",
      "225         NaN         NaN         NaN                 NaN         NaN   \n",
      "226         NaN         NaN         NaN                 NaN         NaN   \n",
      "227         NaN         NaN         NaN                 NaN         NaN   \n",
      "228         NaN         NaN         NaN                 NaN         NaN   \n",
      "229         NaN         NaN         NaN                 NaN         NaN   \n",
      "230         NaN         NaN         NaN                 NaN         NaN   \n",
      "231         NaN         NaN         NaN                 NaN         NaN   \n",
      "232         NaN         NaN         NaN                 NaN         NaN   \n",
      "233         NaN         NaN         NaN                 NaN         NaN   \n",
      "234         NaN         NaN         NaN                 NaN         NaN   \n",
      "235         NaN         NaN         NaN                 NaN         NaN   \n",
      "236         NaN         NaN         NaN                 NaN         NaN   \n",
      "237         NaN         NaN         NaN                 NaN         NaN   \n",
      "238         NaN         NaN         NaN                 NaN         NaN   \n",
      "239         NaN         NaN         NaN                 NaN         NaN   \n",
      "240         NaN         NaN         NaN                 NaN         NaN   \n",
      "241         NaN         NaN         NaN                 NaN         NaN   \n",
      "242         NaN         NaN         NaN                 NaN         NaN   \n",
      "243         NaN         NaN         NaN                 NaN         NaN   \n",
      "244         NaN         NaN         NaN                 NaN         NaN   \n",
      "245         NaN         NaN         NaN                 NaN         NaN   \n",
      "246         NaN         NaN         NaN                 NaN         NaN   \n",
      "247         NaN         NaN         NaN                 NaN         NaN   \n",
      "248         NaN         NaN         NaN                 NaN         NaN   \n",
      "249         NaN         NaN         NaN                 NaN         NaN   \n",
      "\n",
      "            Unnamed: 12            Unnamed: 13       Unnamed: 14  \\\n",
      "0                   NaN                    NaN               NaN   \n",
      "1                   NaN                    NaN               NaN   \n",
      "2    Excipient A Assay   Excipient B viscosity  Excipient C LOD    \n",
      "3           12.3-15.8mg        10000-30000 cps            NMT 1%   \n",
      "4               13.9296                15670.8          0.105406   \n",
      "5              0.524733                590.325        0.00397068   \n",
      "6                   NaN                    NaN               NaN   \n",
      "7                   NaN                    NaN               NaN   \n",
      "8                   NaN                    NaN               NaN   \n",
      "9                   NaN                    NaN               NaN   \n",
      "10                  NaN                    NaN               NaN   \n",
      "11                  NaN                    NaN               NaN   \n",
      "12                  NaN                    NaN               NaN   \n",
      "13                  NaN                    NaN               NaN   \n",
      "14                  NaN                    NaN               NaN   \n",
      "15                  NaN                    NaN               NaN   \n",
      "16                  NaN                    NaN               NaN   \n",
      "17                  NaN                    NaN               NaN   \n",
      "18                  NaN                    NaN               NaN   \n",
      "19                  NaN                    NaN               NaN   \n",
      "20                  NaN                    NaN               NaN   \n",
      "21                  NaN                    NaN               NaN   \n",
      "22                  NaN                    NaN               NaN   \n",
      "23                  NaN                    NaN               NaN   \n",
      "24                  NaN                    NaN               NaN   \n",
      "25                  NaN                    NaN               NaN   \n",
      "26                  NaN                    NaN               NaN   \n",
      "27                  NaN                    NaN               NaN   \n",
      "28                  NaN                    NaN               NaN   \n",
      "29                  NaN                    NaN               NaN   \n",
      "..                  ...                    ...               ...   \n",
      "220                 NaN                    NaN               NaN   \n",
      "221                 NaN                    NaN               NaN   \n",
      "222                 NaN                    NaN               NaN   \n",
      "223                 NaN                    NaN               NaN   \n",
      "224                 NaN                    NaN               NaN   \n",
      "225                 NaN                    NaN               NaN   \n",
      "226                 NaN                    NaN               NaN   \n",
      "227                 NaN                    NaN               NaN   \n",
      "228                 NaN                    NaN               NaN   \n",
      "229                 NaN                    NaN               NaN   \n",
      "230                 NaN                    NaN               NaN   \n",
      "231                 NaN                    NaN               NaN   \n",
      "232                 NaN                    NaN               NaN   \n",
      "233                 NaN                    NaN               NaN   \n",
      "234                 NaN                    NaN               NaN   \n",
      "235                 NaN                    NaN               NaN   \n",
      "236                 NaN                    NaN               NaN   \n",
      "237                 NaN                    NaN               NaN   \n",
      "238                 NaN                    NaN               NaN   \n",
      "239                 NaN                    NaN               NaN   \n",
      "240                 NaN                    NaN               NaN   \n",
      "241                 NaN                    NaN               NaN   \n",
      "242                 NaN                    NaN               NaN   \n",
      "243                 NaN                    NaN               NaN   \n",
      "244                 NaN                    NaN               NaN   \n",
      "245                 NaN                    NaN               NaN   \n",
      "246                 NaN                    NaN               NaN   \n",
      "247                 NaN                    NaN               NaN   \n",
      "248                 NaN                    NaN               NaN   \n",
      "249                 NaN                    NaN               NaN   \n",
      "\n",
      "                  Unnamed: 15            Unnamed: 16  \n",
      "0                         NaN                    NaN  \n",
      "1                         NaN                    NaN  \n",
      "2    Number of pH adjustments  OUTPUT - Consistency   \n",
      "3                       NMT 5            290-350 cps  \n",
      "4                         NaN                313.324  \n",
      "5                         NaN                9.69262  \n",
      "6                         NaN                    NaN  \n",
      "7                         NaN                    NaN  \n",
      "8                         NaN                    NaN  \n",
      "9                         NaN                    NaN  \n",
      "10                        NaN                    NaN  \n",
      "11                        NaN                    NaN  \n",
      "12                        NaN                    NaN  \n",
      "13                        NaN                    NaN  \n",
      "14                        NaN                    NaN  \n",
      "15                        NaN                    NaN  \n",
      "16                        NaN                    NaN  \n",
      "17                        NaN                    NaN  \n",
      "18                        NaN                    NaN  \n",
      "19                        NaN                    NaN  \n",
      "20                        NaN                    NaN  \n",
      "21                        NaN                    NaN  \n",
      "22                        NaN                    NaN  \n",
      "23                        NaN                    NaN  \n",
      "24                        NaN                    NaN  \n",
      "25                        NaN                    NaN  \n",
      "26                        NaN                    NaN  \n",
      "27                        NaN                    NaN  \n",
      "28                        NaN                    NaN  \n",
      "29                        NaN                    NaN  \n",
      "..                        ...                    ...  \n",
      "220                       NaN                    NaN  \n",
      "221                       NaN                    NaN  \n",
      "222                       NaN                    NaN  \n",
      "223                       NaN                    NaN  \n",
      "224                       NaN                    NaN  \n",
      "225                       NaN                    NaN  \n",
      "226                       NaN                    NaN  \n",
      "227                       NaN                    NaN  \n",
      "228                       NaN                    NaN  \n",
      "229                       NaN                    NaN  \n",
      "230                       NaN                    NaN  \n",
      "231                       NaN                    NaN  \n",
      "232                       NaN                    NaN  \n",
      "233                       NaN                    NaN  \n",
      "234                       NaN                    NaN  \n",
      "235                       NaN                    NaN  \n",
      "236                       NaN                    NaN  \n",
      "237                       NaN                    NaN  \n",
      "238                       NaN                    NaN  \n",
      "239                       NaN                    NaN  \n",
      "240                       NaN                    NaN  \n",
      "241                       NaN                    NaN  \n",
      "242                       NaN                    NaN  \n",
      "243                       NaN                    NaN  \n",
      "244                       NaN                    NaN  \n",
      "245                       NaN                    NaN  \n",
      "246                       NaN                    NaN  \n",
      "247                       NaN                    NaN  \n",
      "248                       NaN                    NaN  \n",
      "249                       NaN                    NaN  \n",
      "\n",
      "[250 rows x 17 columns]\n"
     ]
    }
   ],
   "source": [
    "# The code below imports the excel file where the real world data can be invesigated  \n",
    "\n",
    "#ref:https://datatofish.com/read_excel/ \n",
    "\n",
    "import pandas as pd\n",
    "\n",
    "real = pd.read_excel (r\"C:\\Users\\Claire Laptop\\Desktop\\ProgrammingProjectNOV2019\\Real-World-Data-for-Programming-Project-Nov2019.xlsx\") \n",
    "# the \"r\" is used before the path string to address special character, such as '\\')\n",
    "\n",
    "print (real)"
   ]
  },
  {
   "attachments": {
    "image.png": {
     "image/png": "[encoded data removed]"
    }
   },
   "cell_type": "markdown",
   "metadata": {},
   "source": [
    "# 3. The dataset\n",
    "\n",
    "The dataset that I will be simulating is based on a dataset I am currently working on in my job. There is an issue with a the consistency result of a cream product which is outside the specification. \n",
    "\n",
    "Creams are semi-solid emulsions of oil and water. They are semisolid dosage forms containing more than 20% water or volatile components and typically less than 50% hydrocarbons, waxes, or polyols as vehicles for one or more drug substances dissolved or dispersed in a suitable cream base. Consistency describes the degree to which a semi-fluid or semi-solid material resists deformation by an applied force ie how the cream performs when it is applied to the skin.\n",
    "\n",
    "For this particular cream product there are  a number of variables which have an impact on the consistency results. These are the pH of the cream, excipient A assay, excipient B viscosity, excipient C LOD and how many times the pH had to be adjusted per batch to meet specification. The required specifications for each input are shown below:\n",
    "\n",
    "![image.png](attachment:image.png)\n",
    "\n",
    "As part of the design space if the batch is manufactured within these specifiations for these parameters then the consistency result should also be in specification. \n",
    "\n",
    "Based on the historical data I already have collected, I know that all paramaters are normally distributed (Gaussian=distribution) except for the number of pH adjustments per batch which is a Poisson distribution.\n",
    "\n",
    "To confirm this I will create a number of datasets with inputs within the specification range.\n",
    "\n",
    "First I will import the required Python libraries. then $xxx.... KNN week 6$"
   ]
  },
  {
   "cell_type": "markdown",
   "metadata": {},
   "source": [
    "## 3.1. Import various Python libraries into this Jupyter notebook¶\n",
    "\n",
    "For this project I will import a number of the key libraries in Python for data analysis. These are described below:\n",
    "\n",
    "### Numpy\n",
    "For creating random data Numpy is the most imortant library. It is a general-purpose array-processing package. It provides a high-performance multidimensional array object, and tools for working with these arrays. It is the fundamental package for scientific computing with Python. It is really efficient and quick at dealing with lists and data arrays containg large amounts of numbers and working on lists within lists in multidimensional arrays. The beauty of Numpy is that it can perform operations within these arrays.\n",
    "\n",
    "### Pandas\n",
    "Pandas is used for data manipulation, analysis and cleaning. It is used for different kinds of data, such as Tabular data, ordered and unordered time series data, matrix data with row & column labels and any other statistical data sets.\n",
    "\n",
    "### Seaborn\n",
    "The Seaborn program allows for the visualisation of data. It provides high-level commands to create a variety of plot types useful for statistical data exploration and statistical model fitting.\n",
    "\n",
    "### Matplotlib\n",
    "The Matplotlib program allows for the creation of plots of data. It is the plotting library for the Python programming language. It creates 2D and 3D plots for data analysis."
   ]
  },
  {
   "cell_type": "code",
   "execution_count": 47,
   "metadata": {},
   "outputs": [],
   "source": [
    "import numpy as np #this tells the program to generate random numbers from the numpy program"
   ]
  },
  {
   "cell_type": "code",
   "execution_count": 48,
   "metadata": {},
   "outputs": [],
   "source": [
    "import matplotlib.pyplot as plt #matplot is the subprogram of python for generating plots"
   ]
  },
  {
   "cell_type": "code",
   "execution_count": 49,
   "metadata": {},
   "outputs": [],
   "source": [
    "import pandas as pd #Imports the Pandas program"
   ]
  },
  {
   "cell_type": "code",
   "execution_count": 50,
   "metadata": {},
   "outputs": [],
   "source": [
    "import seaborn as sns #import seaborn as sns"
   ]
  },
  {
   "attachments": {
    "image.png": {
     "image/png": "[encoded data removed]"
    }
   },
   "cell_type": "markdown",
   "metadata": {},
   "source": [
    "## 3.2 Creating a random dataset\n",
    "\n",
    "The next steps is to create datasets for each variable within the desired specifications which are normally distributed or Poisson distributed. I am choosing to have 150 data points as this represents approximately six years of batch data as approximately 25 batches are manufactured per year.\n",
    "\n",
    "Most of the inputs must be within certain specification ranges with even more specific limits so the code for the dataset will need to be even more specific which are described below. The historical standard deviations and means for each variable (except pH adjustments) are shown below for reference as these values will be used to cread the simulated datasets. \n",
    "\n",
    "![image.png](attachment:image.png)\n",
    "\n",
    "reference: https://docs.scipy.org/doc/numpy-1.15.0/reference/generated/numpy.random.normal.html\n",
    "https://www.sharpsightlabs.com/blog/numpy-random-normal/\n"
   ]
  },
  {
   "cell_type": "markdown",
   "metadata": {},
   "source": [
    "### 3.2.1 Creating a dataset for the pH input\n",
    "\n",
    "As per above the specification range is between 5.3-6.5 and it is desirable to have the mean result in the middle of this range. The data is normally distributed."
   ]
  },
  {
   "cell_type": "code",
   "execution_count": 51,
   "metadata": {},
   "outputs": [
    {
     "name": "stdout",
     "output_type": "stream",
     "text": [
      "[87 28 36 66 10 84  0 16 30  3 78 59 53 69 49 74 46 27 33 72 68 39 32 97\n",
      "  7 33 62 14 77 43 61 85 36 12 53 26 82 99 12 99 25  1 41 55 55 64 15 92\n",
      " 40 60 70 49 50 32 90 20 52 38 65 80 57 52 89 19 94 64 42 47 21 97  1 89\n",
      " 38 12 18 77 77 88 90 83 39 98 15 37 96 36 98  1 32 30  7 50 50 32 43 41\n",
      " 69  1 97 51 30 82 49 81 82 95 71 21 18 46 44 91  9  4 77 63 23 95 59 64\n",
      " 82 31  1 84 78 68 54 25 83 27 56 92  8 55 76 46 49 11  8 61 74 23 88 89\n",
      " 82 82  5 42 46 21]\n"
     ]
    }
   ],
   "source": [
    "# This code is used to create a list of 150 data points between 0 and 1 to represent\n",
    "\n",
    "x = np.random.randint(100, size=150) #ie create a list of 10 integers between 0 to 100 but not including 100.\n",
    "\n",
    "print(x) # this tells the program to show the array\n"
   ]
  },
  {
   "attachments": {
    "Project%201.PNG": {
     "image/png": "[encoded data removed]"
    }
   },
   "cell_type": "markdown",
   "metadata": {},
   "source": [
    "The above array is just a basic dataset. I want to now create a more representative dataset which is normally distributed within the range 5.3 to 6.5. \n",
    "\n",
    "Below is the basic code to create normally distributed random data with a specified mean and standard deviation. This is the syntax for the code:\n",
    "![Project%201.PNG](attachment:Project%201.PNG)\n",
    "I know I want to create a dataset where the mean is in the middle of the specification range which is 5.9. I am also going to say the standard deviation is approximately 0.16 which is an educated estimate based on historical data.\n"
   ]
  },
  {
   "cell_type": "code",
   "execution_count": 52,
   "metadata": {},
   "outputs": [
    {
     "name": "stdout",
     "output_type": "stream",
     "text": [
      "[5.7686587  5.93878227 6.10835852 5.80521434 6.00707896 5.87713703\n",
      " 5.50642264 6.13999103 5.71093117 5.6924457  5.88896856 5.80286276\n",
      " 5.97262786 5.86719379 5.87918542 5.8322777  6.07824088 5.80078068\n",
      " 5.86394905 6.1628392  5.83450564 6.17665096 5.68434185 5.9552259\n",
      " 6.0192863  5.97573116 6.21529582 6.10306743 6.11476635 5.97590255\n",
      " 5.98496832 5.93774751 5.90893207 5.77773717 5.61097133 6.11441126\n",
      " 5.84372123 5.63490915 6.08994823 5.92613272 5.80675133 6.0233476\n",
      " 6.10032188 5.73907869 5.71451284 5.99499192 5.76654494 5.87242432\n",
      " 5.76306177 5.77944693 5.91648032 6.10370825 5.70072934 5.85272494\n",
      " 6.02524767 6.15825039 5.86448841 5.88181173 5.74801678 6.11958883\n",
      " 5.9343161  6.18399446 5.85840572 5.78262943 5.81258264 5.80998386\n",
      " 5.94921104 5.75660531 5.77786105 5.88984762 6.16438205 6.15167932\n",
      " 5.69437243 5.77079958 5.99836823 5.85464913 6.15816329 5.78114103\n",
      " 5.58600404 6.21826039 5.74816469 5.88583705 5.87431991 5.99553465\n",
      " 6.22983874 5.86553321 6.00028488 5.91505373 5.97023228 6.0231827\n",
      " 5.96908386 5.71481595 5.78792889 5.91487786 6.07694433 5.87007353\n",
      " 6.20272771 5.65338953 5.95154472 6.06172924 6.09931144 5.91920474\n",
      " 5.76760303 6.0877213  6.01903964 5.70334821 5.79449918 5.92657054\n",
      " 6.017097   5.53503426 5.95082445 5.66828459 5.96567109 5.78494469\n",
      " 5.77792658 5.82857287 5.75109304 5.96333581 5.93631868 5.88490395\n",
      " 5.75255089 5.90924122 5.85786594 5.72447133 5.61142734 5.93292957\n",
      " 5.85141766 5.63148574 6.14108261 5.79097195 5.99193957 5.6574788\n",
      " 5.86589206 5.81483217 5.95473388 5.6461666  5.73882756 6.32842289\n",
      " 6.01492831 5.8867716  5.81781155 5.88006132 5.82979712 5.64572901\n",
      " 5.959      5.6078537  5.94992384 5.93198666 5.95671072 6.13750932]\n"
     ]
    },
    {
     "data": {
      "text/plain": [
       "(array([ 3., 10., 15., 28., 28., 29., 12., 17.,  7.,  1.]),\n",
       " array([5.50642264, 5.58862266, 5.67082269, 5.75302272, 5.83522274,\n",
       "        5.91742277, 5.99962279, 6.08182282, 6.16402284, 6.24622287,\n",
       "        6.32842289]),\n",
       " <a list of 10 Patch objects>)"
      ]
     },
     "execution_count": 52,
     "metadata": {},
     "output_type": "execute_result"
    },
    {
     "data": {
      "image/png": "[encoded data removed]",
      "text/plain": [
       "<Figure size 432x288 with 1 Axes>"
      ]
     },
     "metadata": {
      "needs_background": "light"
     },
     "output_type": "display_data"
    }
   ],
   "source": [
    "pH = np.random.normal(5.9, 0.16, 150) # ie create a list of 100 normally distributed numbers where mean is zero and standard deviation is 0.1\n",
    "\n",
    "print(pH)\n",
    "\n",
    "plt.hist(pH) # display results as a histogram plot"
   ]
  },
  {
   "cell_type": "code",
   "execution_count": 53,
   "metadata": {},
   "outputs": [
    {
     "name": "stdout",
     "output_type": "stream",
     "text": [
      "[5.85562512 5.70386059 6.31888519 5.55483214 5.70167207 5.92208837\n",
      " 5.69588178 6.00683886 5.84357584 5.72614855 5.69703051 5.90161268\n",
      " 6.11348618 5.93915452 5.95853045 5.82269936 6.10399752 5.73014636\n",
      " 6.0603073  5.97926074 5.9298835  6.08810791 5.89730493 6.22942749\n",
      " 5.67851861 5.90606647 5.94415967 5.95082547 5.86412798 5.91804945\n",
      " 6.29204625 5.60841448 6.02623312 5.91833978 5.8147549  5.92947216\n",
      " 5.88682683 5.58988933 5.62631782 5.76708749 5.7830491  5.89686613\n",
      " 5.83447979 5.9414046  6.03409361 5.92794767 6.11975044 6.09137244\n",
      " 5.94289604 6.14837986 5.7596048  5.89993563 5.94901846 5.72733516\n",
      " 6.14717164 5.80837678 6.00635376 5.93449737 5.7217119  6.01434022\n",
      " 5.97803579 5.44920956 6.07267405 5.98283816 5.78912231 5.85287466\n",
      " 6.07016933 5.97591692 5.70851962 5.80225481 5.65544542 5.87832408\n",
      " 6.11743556 5.7793297  5.77671493 5.88871037 6.07091655 5.64400738\n",
      " 6.01593649 5.96346068 5.99390849 5.9643974  5.86474212 6.03874949\n",
      " 5.57294193 5.72122547 5.81545745 5.8340308  5.9916804  5.7902426\n",
      " 5.81243291 5.72966337 6.15259321 6.04452552 5.66466847 5.78580259\n",
      " 5.87780188 5.95042984 5.64037672 6.19088579 5.74839384 5.61224831\n",
      " 5.98727059 5.96278755 5.60218264 5.92248257 6.03617666 6.04271019\n",
      " 6.02390857 5.83088697 6.07961762 5.80336422 5.63088008 5.87116408\n",
      " 5.7960299  5.66195558 5.7626778  6.08137621 6.08688845 5.89766241\n",
      " 5.86838268 5.85389389 5.74791277 5.83982605 5.81020811 6.10052361\n",
      " 5.91837194 5.86406842 5.87395316 5.5505144  5.96016791 6.19072719\n",
      " 6.03272335 5.76864806 6.00564003 5.88256716 5.76582948 5.89313536\n",
      " 5.71958515 5.85965169 6.2106608  6.00763592 5.87686923 5.96375886\n",
      " 6.07142945 5.90384356 6.02099528 5.69678955 5.82815696 5.73653623]\n"
     ]
    },
    {
     "data": {
      "text/plain": [
       "(array([ 1.,  7., 14., 22., 28., 32., 22., 15.,  7.,  2.]),\n",
       " array([5.44920956, 5.53617712, 5.62314468, 5.71011225, 5.79707981,\n",
       "        5.88404738, 5.97101494, 6.0579825 , 6.14495007, 6.23191763,\n",
       "        6.31888519]),\n",
       " <a list of 10 Patch objects>)"
      ]
     },
     "execution_count": 53,
     "metadata": {},
     "output_type": "execute_result"
    },
    {
     "data": {
      "image/png": "[encoded data removed]",
      "text/plain": [
       "<Figure size 432x288 with 1 Axes>"
      ]
     },
     "metadata": {
      "needs_background": "light"
     },
     "output_type": "display_data"
    }
   ],
   "source": [
    "# this code is also similar to the code below where size is the number of required data points, loc is the mean and scale is the standard deviation\n",
    "\n",
    "pH = np.random.normal(size = 150, loc = 5.9, scale = 0.16)\n",
    "\n",
    "print(pH)\n",
    "\n",
    "plt.hist(pH) # display results as a histogram plot"
   ]
  },
  {
   "cell_type": "markdown",
   "metadata": {},
   "source": [
    "From the data created, the descriptive stats and the histogram, this code creates a good repesentation of the actual data."
   ]
  },
  {
   "cell_type": "markdown",
   "metadata": {},
   "source": [
    "The remaining datasets can now be created with the same code using the historical means and standard deviation values"
   ]
  },
  {
   "cell_type": "markdown",
   "metadata": {},
   "source": [
    "### 3.2.2 Creating a dataset for the assay of excipient A input"
   ]
  },
  {
   "cell_type": "code",
   "execution_count": 54,
   "metadata": {},
   "outputs": [
    {
     "name": "stdout",
     "output_type": "stream",
     "text": [
      "[14.57811776 14.24327463 13.79740928 14.59579743 13.47749239 14.16413963\n",
      " 14.40042445 14.05814437 13.80452822 14.41870681 14.27925106 13.65362744\n",
      " 13.73366319 13.8010597  14.28887435 12.41658605 13.86200665 13.51903561\n",
      " 13.94778451 12.92552841 14.13782681 13.85187253 13.21831137 13.95600355\n",
      " 13.15531722 13.21370939 14.16094091 13.84437659 14.26492104 13.82257\n",
      " 14.15962669 14.43154702 13.91903442 13.00191436 14.41586522 14.73509351\n",
      " 13.7358807  13.89890772 12.99661413 13.78731095 14.11541737 14.88526121\n",
      " 14.09298144 14.63365283 14.34705143 14.16458977 14.23131471 13.92161553\n",
      " 14.47554161 13.46930063 13.46549155 13.91895343 14.38317632 13.12737072\n",
      " 13.5873839  14.00755936 13.58267758 13.82588553 13.18863141 13.92614473\n",
      " 13.62077669 14.70638454 14.46562984 13.18023058 14.58885139 14.35453465\n",
      " 13.76770213 14.33953334 14.52903436 13.84872407 13.71591039 14.13775915\n",
      " 13.24194945 14.83204569 14.51633281 15.06499615 14.40381261 13.55237434\n",
      " 12.99360022 13.95665895 14.61234813 14.54320956 12.93421622 12.93930842\n",
      " 14.161638   13.34207954 13.44219402 14.52376541 13.92081073 13.54296549\n",
      " 14.198997   13.67365752 14.55754099 14.60958122 13.56795277 13.85404273\n",
      " 13.16288301 14.01752415 14.13763188 14.27931008 13.8861571  14.3035481\n",
      " 13.78802963 13.34370519 13.82447306 14.49260932 13.69572786 13.5035436\n",
      " 14.90650049 13.74785001 13.17202585 14.39601009 13.43842969 13.71027964\n",
      " 15.18479063 14.07669572 14.12963311 13.52440131 14.49992622 14.1958281\n",
      " 14.67389941 14.28911774 15.01264749 14.17400263 13.75959962 12.84484443\n",
      " 13.86673418 13.68824415 13.80059541 14.12549951 14.41391692 14.73701384\n",
      " 13.63462188 13.66535217 14.08224618 12.92218625 13.7902625  12.78695352\n",
      " 14.04843659 14.08172001 13.21029161 14.00098987 14.4172061  14.26675405\n",
      " 14.56309412 13.77831179 14.25702032 13.80936594 13.89257148 13.5564307 ]\n"
     ]
    },
    {
     "data": {
      "text/plain": [
       "(array([ 1.,  6., 13.,  9., 27., 29., 29., 25.,  8.,  3.]),\n",
       " array([12.41658605, 12.69340651, 12.97022697, 13.24704742, 13.52386788,\n",
       "        13.80068834, 14.0775088 , 14.35432925, 14.63114971, 14.90797017,\n",
       "        15.18479063]),\n",
       " <a list of 10 Patch objects>)"
      ]
     },
     "execution_count": 54,
     "metadata": {},
     "output_type": "execute_result"
    },
    {
     "data": {
      "image/png": "[encoded data removed]",
      "text/plain": [
       "<Figure size 432x288 with 1 Axes>"
      ]
     },
     "metadata": {
      "needs_background": "light"
     },
     "output_type": "display_data"
    }
   ],
   "source": [
    "# Assay of excipient A\n",
    "\n",
    "assay = np.random.normal(13.9, 0.525, 150) # ie create a list of 100 normally distributed numbers where mean is zero and standard deviation is 0.1\n",
    "\n",
    "print(assay)\n",
    "\n",
    "plt.hist(assay) # display results as a histogram plot"
   ]
  },
  {
   "cell_type": "markdown",
   "metadata": {},
   "source": [
    "### 3.2.3 Creating a dataset for the viscosity of excipient B input"
   ]
  },
  {
   "cell_type": "code",
   "execution_count": 55,
   "metadata": {},
   "outputs": [
    {
     "name": "stdout",
     "output_type": "stream",
     "text": [
      "[15684.63801859 16524.76685762 15637.4256241  16456.13985763\n",
      " 15941.81195934 16046.37147581 15068.39336302 15554.62693147\n",
      " 15184.38033646 15641.69397209 15427.70091385 16288.95611724\n",
      " 15868.23619664 15907.55669218 16303.19517421 15874.26811448\n",
      " 15589.86221778 15735.99479937 16232.54301507 15540.90370356\n",
      " 15651.10603054 16022.69938973 16105.88764012 15371.71859195\n",
      " 15105.47544996 15579.50424169 14591.52120691 16111.8168734\n",
      " 15833.1609215  15201.28217388 16185.02220008 16682.28335036\n",
      " 15920.62121886 15619.19292242 15685.16132932 14823.44866557\n",
      " 16139.19024199 15352.14597966 15159.57241647 14600.89237\n",
      " 15250.68931736 15903.83351485 15248.89733738 16168.30884968\n",
      " 14760.31778199 15668.3683431  15675.71965807 15511.42631709\n",
      " 14917.05157343 15414.51238718 15078.90431975 15593.92873584\n",
      " 15979.85372511 15083.82280197 15034.86501434 16138.9343797\n",
      " 16305.43136248 15347.44840747 15804.5325654  16474.07077019\n",
      " 16685.27086486 15281.10077548 15553.5443461  15580.40585365\n",
      " 17332.46671595 15326.27892502 15429.40691174 15249.90338642\n",
      " 15262.82374286 15766.06388408 16457.65014557 15158.00111097\n",
      " 15595.59784666 15216.04119255 14925.66168929 14599.2817366\n",
      " 16572.69898718 16422.9862943  16158.40894586 15496.49217141\n",
      " 15572.61321399 15617.75582293 15413.31858112 15259.6616949\n",
      " 14755.33103298 15934.48689419 14852.82270604 16128.24938751\n",
      " 15540.21756205 15372.45231054 15287.23236461 15819.35452734\n",
      " 16038.5118988  17290.6663918  15304.91808206 14700.66401843\n",
      " 17439.31928314 15757.32114674 16594.76228858 15208.01241696\n",
      " 15898.92845955 16124.54972202 16506.61016816 14948.18556141\n",
      " 16575.55513074 15513.92527047 15777.61675016 16158.64319816\n",
      " 15413.47031831 15665.08238339 16347.05224749 14820.82917059\n",
      " 16314.61434328 16541.59978724 14957.68211372 15595.18227553\n",
      " 15672.03738615 15296.2915881  16415.56743525 16240.76313853\n",
      " 16082.48729511 16718.74358085 14935.75739533 15985.31325634\n",
      " 15361.07771837 15484.48738268 15849.9698235  16743.25501682\n",
      " 15437.86121076 16495.33481312 15476.91894747 15805.08913102\n",
      " 15692.89810092 16625.1904662  16009.16793966 15518.37373006\n",
      " 16554.77694825 15418.13346445 16483.88597605 16107.17626525\n",
      " 15341.42333376 16163.37266253 15636.11399114 15914.0804387\n",
      " 15512.40302414 15453.97506848 15359.25528483 14905.05295245\n",
      " 15567.61176259 15883.30551928]\n"
     ]
    },
    {
     "data": {
      "text/plain": [
       "(array([ 9., 13., 28., 33., 22., 19., 17.,  6.,  0.,  3.]),\n",
       " array([14591.52120691, 14876.30101454, 15161.08082216, 15445.86062978,\n",
       "        15730.6404374 , 16015.42024502, 16300.20005265, 16584.97986027,\n",
       "        16869.75966789, 17154.53947551, 17439.31928314]),\n",
       " <a list of 10 Patch objects>)"
      ]
     },
     "execution_count": 55,
     "metadata": {},
     "output_type": "execute_result"
    },
    {
     "data": {
      "image/png": "[encoded data removed]",
      "text/plain": [
       "<Figure size 432x288 with 1 Axes>"
      ]
     },
     "metadata": {
      "needs_background": "light"
     },
     "output_type": "display_data"
    }
   ],
   "source": [
    "visc = np.random.normal(15671, 590.325, 150) # ie create a list of 100 normally distributed numbers where mean is zero and standard deviation is 0.1\n",
    "\n",
    "print(visc)\n",
    "\n",
    "plt.hist(visc) # display results as a histogram plot"
   ]
  },
  {
   "cell_type": "markdown",
   "metadata": {},
   "source": [
    "### 3.2.4 Creating a dataset for the LOD of excipient C input\n",
    "\n",
    "LOD values skew towards 0.1% rather than middle of NMT 1% (mean 0.105% and std dev 0.004). There are circumstances where a particular batch of this excipient may have a higher than usual LOD value which is still within specification eg at 0.9%. I would like to create a dataset where most values are around the mean of 0.105% but with some atypical higher results within specification. From the website $reference xx$ the following code is suggested to create long tails.\n",
    "\n",
    "Long Tails are extreme values at the edge of the distribution and can occur in one or both directions. In plots, this can make the distribution look like it is exponential, when in fact it might be Gaussian with an abundance of rare events in one direction. To create a data range and plot a tail with an additional 10 uniformly random values in the range 10-to-110 are added to the dataset. This creates a long tail on the distribution."
   ]
  },
  {
   "cell_type": "code",
   "execution_count": 56,
   "metadata": {},
   "outputs": [
    {
     "name": "stdout",
     "output_type": "stream",
     "text": [
      "[0.11961911 0.09949419 0.10024645 0.09534328 0.11278867 0.08428615\n",
      " 0.12070331 0.09814914 0.10787135 0.10275567 0.11815897 0.08645873\n",
      " 0.10209825 0.10154351 0.11520392 0.09510098 0.10344815 0.09709927\n",
      " 0.10537992 0.11024534 0.09509443 0.11530251 0.11311432 0.10952245\n",
      " 0.1131077  0.09884645 0.10389399 0.09657808 0.10258901 0.1097732\n",
      " 0.09877505 0.10142922 0.09881545 0.09739315 0.09895878 0.10488602\n",
      " 0.09494421 0.10710974 0.11993822 0.1116784  0.10327348 0.09701134\n",
      " 0.09827558 0.12023209 0.10545727 0.09926704 0.10671824 0.1239023\n",
      " 0.10608143 0.11055483 0.10770153 0.10182975 0.09471734 0.10185592\n",
      " 0.10311995 0.11027961 0.11255085 0.11337992 0.10757029 0.11296627\n",
      " 0.09821042 0.11627581 0.10961637 0.10231716 0.10939666 0.10431985\n",
      " 0.11518466 0.11867835 0.12467018 0.09243153 0.09200298 0.10045981\n",
      " 0.10644033 0.11288552 0.10784071 0.08680019 0.10224416 0.11245177\n",
      " 0.10707085 0.1118581  0.10299905 0.10319318 0.10667905 0.10869046\n",
      " 0.1067847  0.10607108 0.09896404 0.10839807 0.10609639 0.11516536\n",
      " 0.11579026 0.10666641 0.10162244 0.09925143 0.10881145 0.10569606\n",
      " 0.10190532 0.10539237 0.09941999 0.11128229 0.10097584 0.11602057\n",
      " 0.10863142 0.11034221 0.09514579 0.10652444 0.11166501 0.09641669\n",
      " 0.10260403 0.10529353 0.09264194 0.10783643 0.11261545 0.09726436\n",
      " 0.10815491 0.09318945 0.10465174 0.09045805 0.11509276 0.1086801\n",
      " 0.10477845 0.09802355 0.1164638  0.12270392 0.08827816 0.11612548\n",
      " 0.11964886 0.10804211 0.09420659 0.11277011 0.10337172 0.09956471\n",
      " 0.09392948 0.10995484 0.11213526 0.09938822 0.10968519 0.09470093\n",
      " 0.11221675 0.10541911 0.10332087 0.10408429 0.11281998 0.1117537\n",
      " 0.10976519 0.10623931 0.10570039 0.11056542 0.10709245 0.11114296\n",
      " 0.41700617 0.49379253 0.58844839 0.54463834 0.84594514 0.83998675\n",
      " 0.42090049 0.87561002 0.24416453 0.20606362]\n"
     ]
    },
    {
     "data": {
      "image/png": "[encoded data removed]",
      "text/plain": [
       "<Figure size 432x288 with 1 Axes>"
      ]
     },
     "metadata": {
      "needs_background": "light"
     },
     "output_type": "display_data"
    }
   ],
   "source": [
    "# histogram plot of data with a long tail\n",
    "from numpy.random import seed\n",
    "from numpy.random import randn\n",
    "from numpy.random import rand\n",
    "from numpy import append\n",
    "from matplotlib import pyplot\n",
    "# seed the random number generator\n",
    "seed(1)\n",
    "\n",
    "# generate a univariate data sample\n",
    "\n",
    "# LOD = std dev * randn(no of data points) + mean result\n",
    "LOD = 0.009 * randn(150) + 0.105 \n",
    "\n",
    "# tail = mean + (rand(no of extreme data points) * number to create a range)\n",
    "tail = 0.105 + (rand(10) * 0.8) # ie create 10 values as a long tail from 0.105 to 0.905 (0.105+0.8). 0.8 was chosen so that tail values remained under the specification limit of NMT 1.0%.\n",
    "\n",
    "# append the tail data to the regular data\n",
    "LOD = append(LOD, tail)\n",
    "\n",
    "print(LOD)\n",
    "\n",
    "# display results as a histogram plot\n",
    "\n",
    "pyplot.hist(LOD) \n",
    "pyplot.show()\n",
    "\n",
    "# ref https://machinelearningmastery.com/how-to-transform-data-to-fit-the-normal-distribution/\n",
    "\n",
    "# code does the right thing as per the histogram but there is some data outside the specification limit of NMT 1.0%. \n",
    "# The raw material would not be used in a pharmaceutical batch if it was outside this range."
   ]
  },
  {
   "cell_type": "markdown",
   "metadata": {},
   "source": [
    "We can use a simple threshold, such as a value of 25, on this dataset as a cutoff and remove all observations higher than this threshold. We did choose this threshold with prior knowledge of how the data sample was contrived, but you can imagine testing different thresholds on your own dataset and evaluating their effect."
   ]
  },
  {
   "cell_type": "markdown",
   "metadata": {},
   "source": [
    "### 3.2.5 Creating a dataset for the number of pH adjustments input\n",
    "\n",
    "Number of pH adjustments ie NMT 5. Poisson distribution"
   ]
  },
  {
   "cell_type": "markdown",
   "metadata": {},
   "source": [
    "# format\n",
    " \n",
    " Poisson Distribution\n",
    "The Poisson distribution is the limit of the binomial distribution for large N. The Poisson distribution, named after French mathematician Siméon Denis Poisson, is a discrete probability distribution that expresses the probability of a given number of events occurring in a fixed interval of time or space if these events occur with a known constant rate and independently of the time since the last event. The Poisson distribution can also be used for the number of events in other specified intervals such as distance, area or volume. The Poisson distribution is popular for modelling the number of times an event occurs in an interval of time or space.\n",
    "\n",
    "For instance, an individual keeping track of the amount of mail they receive each day may notice that they receive an average number of 4 letters per day. If receiving any particular piece of mail does not affect the arrival times of future pieces of mail, i.e., if pieces of mail from a wide range of sources arrive independently of one another, then reasonable assumption is that the number of pieces of mail received in a day obeys a Poisson distribution. Other examples that may follow a Poisson distribution include the number of phone calls received by a call center per hour and the number of decay events per second from a radioactive source.\n",
    "\n",
    "The equation is:$${\\displaystyle P(k{\\text{ events in interval}})={\\frac {\\lambda ^{k}e^{-\\lambda }}{k!}}}$$\n",
    "\n",
    "where:\n",
    "\n",
    "$${\\lambda}$$\n",
    "is the average number of events per interval\n",
    "\n",
    "e is the number 2.71828... (Euler's number) the base of the natural logarithms\n",
    "\n",
    "k takes values 0, 1, 2, ...\n",
    "\n",
    "k! = k × (k − 1) × (k − 2) × ... × 2 × 1 is the factorial of k.\n",
    "\n",
    "The Poisson distribution may be useful to model events such as\n",
    "\n",
    "The number of meteorites greater than 1 meter diameter that strike Earth in a year\n",
    "The number of patients arriving in an emergency room between 10 and 11 pm\n",
    "The number of photons hitting a detector in a particular time interval\n",
    "Assumptions and validity\n",
    "The Poisson distribution is an appropriate model if the following assumptions are true:\n",
    "\n",
    "k is the number of times an event occurs in an interval and k can take values 0, 1, 2, ....\n",
    "The occurrence of one event does not affect the probability that a second event will occur. That is, events occur independently.\n",
    "The average rate at which events occur is constant.\n",
    "Two events cannot occur at exactly the same instant; instead, at each very small sub-interval exactly one event either occurs or does not occur. Or\n",
    "The actual probability distribution is given by a binomial distribution and the number of trials is sufficiently bigger than the number of successes one is asking about (see Related distributions). If these conditions are true, then k is a Poisson random variable, and the distribution of k is a Poisson distribution.\n",
    "The code used is numpy.random.poisson(lam=1.0, size=None) where lam is a floating number or an array of floating numbers and size is an integer.\n",
    "\n",
    "The array shape is for example (m, n, k), then m n k samples are drawn. If size is None (default), a single value is returned. Otherwise, np.array(lam).size samples are drawn.\n",
    "\n",
    "Below show examples of the code in practise:\n",
    "\n",
    "References:\n",
    "\n",
    "https://docs.scipy.org/doc/numpy-1.15.0/reference/generated/numpy.random.poisson.html#numpy.random.poisson\n",
    "https://en.wikipedia.org/wiki/Poisson_distribution\n",
    "http://mathworld.wolfram.com/PoissonDistribution.html"
   ]
  },
  {
   "cell_type": "code",
   "execution_count": 57,
   "metadata": {},
   "outputs": [
    {
     "name": "stdout",
     "output_type": "stream",
     "text": [
      "[0 1 2 0 0 0 1 4 1 1 1 0 1 1 2 2 1 1 1 3 1 3 2 1 1 1 1 2 1 4 0 2 2 2 0 0 1\n",
      " 1 3 0 1 0 1 2 0 0 1 0 0 1 1 0 1 0 1 1 1 2 0 3 3 2 1 2 0 1 1 2 0 3 2 0 0 0\n",
      " 0 1 0 3 1 1 0 0 1 0 1 1 0 2 2 2 1 1 0 0 1 2 1 1 2 0 0 0 1 0 1 1 1 2 1 1 1\n",
      " 1 4 0 0 4 1 0 0 0 1 0 1 1 1 1 1 1 2 1 2 1 0 0 1 2 0 1 3 0 0 0 0 1 1 1 1 0\n",
      " 0 1]\n"
     ]
    },
    {
     "data": {
      "image/png": "[encoded data removed]",
      "text/plain": [
       "<Figure size 432x288 with 1 Axes>"
      ]
     },
     "metadata": {
      "needs_background": "light"
     },
     "output_type": "display_data"
    }
   ],
   "source": [
    "# Create a dataset for number of times the pH has to be adjusted per batch. The limit is no more than 5 times.\n",
    "\n",
    "pHevents = np.random.poisson(1, 150) #creates an list of 150 data points which are poisson distributed an average number of 1 pH adjustment per batch\n",
    "\n",
    "print(pHevents)\n",
    "\n",
    "plt.hist(pHevents) \n",
    "plt.show()\n",
    "\n"
   ]
  },
  {
   "cell_type": "markdown",
   "metadata": {},
   "source": [
    "## 4.0 Creating relationships between the various datasets"
   ]
  },
  {
   "cell_type": "code",
   "execution_count": null,
   "metadata": {},
   "outputs": [],
   "source": []
  },
  {
   "cell_type": "code",
   "execution_count": null,
   "metadata": {},
   "outputs": [],
   "source": []
  },
  {
   "cell_type": "code",
   "execution_count": null,
   "metadata": {},
   "outputs": [],
   "source": []
  },
  {
   "cell_type": "code",
   "execution_count": null,
   "metadata": {},
   "outputs": [],
   "source": []
  },
  {
   "cell_type": "code",
   "execution_count": null,
   "metadata": {},
   "outputs": [],
   "source": []
  },
  {
   "cell_type": "code",
   "execution_count": null,
   "metadata": {},
   "outputs": [],
   "source": []
  },
  {
   "cell_type": "code",
   "execution_count": null,
   "metadata": {},
   "outputs": [],
   "source": []
  },
  {
   "cell_type": "markdown",
   "metadata": {},
   "source": [
    "# potential references\n",
    "https://pcse.readthedocs.io/en/stable/\n",
    "\n",
    "https://github.com/theodi/synthetic-data-tutorial\n",
    "\n",
    "https://github.com/tirthajyoti/Machine-Learning-with-Python/blob/master/Synthetic_data_generation/Synthetic-Data-Generation.ipynb\n",
    "\n",
    "https://realpython.com/python-random/\n",
    "\n",
    "https://scipy-lectures.org/\n",
    "\n",
    "https://medium.com/activewizards-machine-learning-company/top-15-python-libraries-for-data-science-in-in-2017-ab61b4f9b4a7\n",
    "\n",
    "https://scikit-learn.org/stable/datasets/index.html\n",
    "\n",
    "https://nbviewer.jupyter.org/github/ianmcloughlin/jupyter-teaching-notebooks/tree/master/\n",
    "\n",
    "https://towardsdatascience.com/creating-a-dataset-using-an-api-with-python-dcc1607616d\n",
    "\n",
    "https://www.dataquest.io/blog/sci-kit-learn-tutorial/\n",
    "\n",
    "https://www.dataquest.io/blog/basic-statistics-in-python-probability/\n",
    "\n",
    "http://greenteapress.com/modsimpy/ModSimPy3.pdf\n",
    "\n",
    "https://machinelearningmastery.com/generate-test-datasets-python-scikit-learn/\n",
    "\n",
    "https://towardsdatascience.com/introduction-to-linear-regression-in-python-c12a072bedf0\n",
    "\n",
    "https://www.datacamp.com/community/tutorials/probability-distributions-python\n",
    "\n",
    "https://machinelearningmastery.com/how-to-transform-data-to-fit-the-normal-distribution/\n",
    "\n",
    "https://machinelearningmastery.com/power-transform-time-series-forecast-data-python/\n"
   ]
  },
  {
   "cell_type": "markdown",
   "metadata": {},
   "source": [
    "# X. References (Update as per referencing style as per feedback)\n",
    "\n",
    "1. https://www.fda.gov/media/71021/download - FDA guidelines for process validation\n",
    "2. https://www.ich.org/page/quality-guidelines - ICH quality guidelines\n",
    "3. https://www.pharmaceuticalonline.com/doc/design-space-development-how-and-when-to-get-started-0001 - a paper on the theory of design space.\n",
    "4. https://en.wikipedia.org/wiki/Quality_by_Design - overview of QBD\n",
    "5. https://en.wikipedia.org/wiki/Cream_(pharmaceutical) - Brief introduction to creams\n",
    "6. https://wiki.anton-paar.com/en/consistency-measurement/ - explanation of the consistency measurement\n",
    "7. https://towardsdatascience.com/the-poisson-distribution-and-poisson-process-explained-4e2cb17d459 - explanation of Poisson distribution and code to create Poisson distributed dataset.\n"
   ]
  },
  {
   "cell_type": "markdown",
   "metadata": {},
   "source": [
    "# END"
   ]
  }
 ],
 "metadata": {
  "kernelspec": {
   "display_name": "Python 3",
   "language": "python",
   "name": "python3"
  },
  "language_info": {
   "codemirror_mode": {
    "name": "ipython",
    "version": 3
   },
   "file_extension": ".py",
   "mimetype": "text/x-python",
   "name": "python",
   "nbconvert_exporter": "python",
   "pygments_lexer": "ipython3",
   "version": "3.7.3"
  }
 },
 "nbformat": 4,
 "nbformat_minor": 2
}
